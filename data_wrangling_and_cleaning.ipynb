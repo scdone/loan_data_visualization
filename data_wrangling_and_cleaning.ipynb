{
 "cells": [
  {
   "cell_type": "markdown",
   "id": "364d28db",
   "metadata": {},
   "source": [
    "# Prosper Loan Data Anaylsis and Visualization"
   ]
  },
  {
   "cell_type": "markdown",
   "id": "c333aed9",
   "metadata": {},
   "source": [
    "## By Stetson Done"
   ]
  },
  {
   "cell_type": "markdown",
   "id": "156e11c4",
   "metadata": {},
   "source": [
    "This analysis will dive into the Prosper Loan Data "
   ]
  }
 ],
 "metadata": {
  "kernelspec": {
   "display_name": "Python 3 (ipykernel)",
   "language": "python",
   "name": "python3"
  },
  "language_info": {
   "codemirror_mode": {
    "name": "ipython",
    "version": 3
   },
   "file_extension": ".py",
   "mimetype": "text/x-python",
   "name": "python",
   "nbconvert_exporter": "python",
   "pygments_lexer": "ipython3",
   "version": "3.9.7"
  }
 },
 "nbformat": 4,
 "nbformat_minor": 5
}
