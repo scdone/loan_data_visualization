{
 "cells": [
  {
   "cell_type": "markdown",
   "metadata": {},
   "source": [
    "# Part I - Loan Data Analysis from Prosper Loans\n",
    "## by Stetson Done\n",
    "\n",
    "## Introduction\n",
    "\n",
    ">This analysis will dive into a loan dataset from Prosper (a personal loan company). The raw dataset contains information about 113,937 loans with 81 variables about each loan. The dataset was acquired through Udacity, but can be found on kaggle.com at https://www.kaggle.com/yousuf28/prosper-loan. \n",
    "\n",
    "\n",
    "## Preliminary Wrangling\n",
    "\n",
    ">All data wrangling and cleaning was completed in a separate notebook prior to this analysis. See data_wrangling_and_cleaning.ipynb for details.\n"
   ]
  },
  {
   "cell_type": "code",
   "execution_count": 12,
   "metadata": {},
   "outputs": [],
   "source": [
    "# import all packages and set plots to be embedded inline\n",
    "import numpy as np\n",
    "import pandas as pd\n",
    "import matplotlib.pyplot as plt\n",
    "import seaborn as sns\n",
    "\n",
    "%matplotlib inline\n",
    "\n",
    "sns.set()"
   ]
  },
  {
   "cell_type": "code",
   "execution_count": 13,
   "metadata": {},
   "outputs": [],
   "source": [
    "# loads cleaned master loan df into df from csv file created in data_wrangling_and_cleaning.ipynb\n",
    "df = pd.read_csv(r\"C:\\Users\\14802\\Desktop\\DATA_PROJECTS\\udacity_projects\\Loan_Data_Visualization\\master_loan_data.csv\", index_col=False, low_memory=False)"
   ]
  },
  {
   "cell_type": "code",
   "execution_count": 14,
   "metadata": {},
   "outputs": [
    {
     "data": {
      "text/html": [
       "<div>\n",
       "<style scoped>\n",
       "    .dataframe tbody tr th:only-of-type {\n",
       "        vertical-align: middle;\n",
       "    }\n",
       "\n",
       "    .dataframe tbody tr th {\n",
       "        vertical-align: top;\n",
       "    }\n",
       "\n",
       "    .dataframe thead th {\n",
       "        text-align: right;\n",
       "    }\n",
       "</style>\n",
       "<table border=\"1\" class=\"dataframe\">\n",
       "  <thead>\n",
       "    <tr style=\"text-align: right;\">\n",
       "      <th></th>\n",
       "      <th>member_key</th>\n",
       "      <th>borrower_state</th>\n",
       "      <th>income_range</th>\n",
       "      <th>income_verifiable</th>\n",
       "      <th>debt_to_income_ratio</th>\n",
       "      <th>occupation</th>\n",
       "      <th>employment_status</th>\n",
       "      <th>employment_status_duration</th>\n",
       "      <th>is_borrower_homeowner</th>\n",
       "      <th>credit_score_range_lower</th>\n",
       "      <th>...</th>\n",
       "      <th>closed_date</th>\n",
       "      <th>is_loan_delinquent</th>\n",
       "      <th>loan_current_days_delinquent</th>\n",
       "      <th>loan_months_since_origination</th>\n",
       "      <th>lender_yield</th>\n",
       "      <th>estimated_effective_yield</th>\n",
       "      <th>estimated_loss</th>\n",
       "      <th>estimated_return</th>\n",
       "      <th>l_p__gross_principal_loss</th>\n",
       "      <th>l_p__net_principal_loss</th>\n",
       "    </tr>\n",
       "  </thead>\n",
       "  <tbody>\n",
       "    <tr>\n",
       "      <th>0</th>\n",
       "      <td>1F3E3376408759268057EDA</td>\n",
       "      <td>CO</td>\n",
       "      <td>$25,000-49,999</td>\n",
       "      <td>1</td>\n",
       "      <td>0.17</td>\n",
       "      <td>Other</td>\n",
       "      <td>Self-employed</td>\n",
       "      <td>2.0</td>\n",
       "      <td>1</td>\n",
       "      <td>640.0</td>\n",
       "      <td>...</td>\n",
       "      <td>2009-08-14</td>\n",
       "      <td>0</td>\n",
       "      <td>0</td>\n",
       "      <td>78</td>\n",
       "      <td>0.1380</td>\n",
       "      <td>NaN</td>\n",
       "      <td>NaN</td>\n",
       "      <td>NaN</td>\n",
       "      <td>0.0</td>\n",
       "      <td>0.0</td>\n",
       "    </tr>\n",
       "    <tr>\n",
       "      <th>1</th>\n",
       "      <td>1D13370546739025387B2F4</td>\n",
       "      <td>CO</td>\n",
       "      <td>$50,000-74,999</td>\n",
       "      <td>1</td>\n",
       "      <td>0.18</td>\n",
       "      <td>Professional</td>\n",
       "      <td>Employed</td>\n",
       "      <td>44.0</td>\n",
       "      <td>1</td>\n",
       "      <td>680.0</td>\n",
       "      <td>...</td>\n",
       "      <td>NaN</td>\n",
       "      <td>0</td>\n",
       "      <td>0</td>\n",
       "      <td>0</td>\n",
       "      <td>0.0820</td>\n",
       "      <td>0.07960</td>\n",
       "      <td>0.0249</td>\n",
       "      <td>0.05470</td>\n",
       "      <td>0.0</td>\n",
       "      <td>0.0</td>\n",
       "    </tr>\n",
       "    <tr>\n",
       "      <th>2</th>\n",
       "      <td>5F7033715035555618FA612</td>\n",
       "      <td>GA</td>\n",
       "      <td>Not displayed</td>\n",
       "      <td>1</td>\n",
       "      <td>0.06</td>\n",
       "      <td>Other</td>\n",
       "      <td>Not available</td>\n",
       "      <td>NaN</td>\n",
       "      <td>1</td>\n",
       "      <td>480.0</td>\n",
       "      <td>...</td>\n",
       "      <td>2009-12-17</td>\n",
       "      <td>0</td>\n",
       "      <td>0</td>\n",
       "      <td>86</td>\n",
       "      <td>0.2400</td>\n",
       "      <td>NaN</td>\n",
       "      <td>NaN</td>\n",
       "      <td>NaN</td>\n",
       "      <td>0.0</td>\n",
       "      <td>0.0</td>\n",
       "    </tr>\n",
       "    <tr>\n",
       "      <th>3</th>\n",
       "      <td>9ADE356069835475068C6D2</td>\n",
       "      <td>GA</td>\n",
       "      <td>$25,000-49,999</td>\n",
       "      <td>1</td>\n",
       "      <td>0.15</td>\n",
       "      <td>Skilled Labor</td>\n",
       "      <td>Employed</td>\n",
       "      <td>113.0</td>\n",
       "      <td>1</td>\n",
       "      <td>800.0</td>\n",
       "      <td>...</td>\n",
       "      <td>NaN</td>\n",
       "      <td>0</td>\n",
       "      <td>0</td>\n",
       "      <td>16</td>\n",
       "      <td>0.0874</td>\n",
       "      <td>0.08490</td>\n",
       "      <td>0.0249</td>\n",
       "      <td>0.06000</td>\n",
       "      <td>0.0</td>\n",
       "      <td>0.0</td>\n",
       "    </tr>\n",
       "    <tr>\n",
       "      <th>4</th>\n",
       "      <td>36CE356043264555721F06C</td>\n",
       "      <td>MN</td>\n",
       "      <td>$100,000+</td>\n",
       "      <td>1</td>\n",
       "      <td>0.26</td>\n",
       "      <td>Executive</td>\n",
       "      <td>Employed</td>\n",
       "      <td>44.0</td>\n",
       "      <td>1</td>\n",
       "      <td>680.0</td>\n",
       "      <td>...</td>\n",
       "      <td>NaN</td>\n",
       "      <td>0</td>\n",
       "      <td>0</td>\n",
       "      <td>6</td>\n",
       "      <td>0.1985</td>\n",
       "      <td>0.18316</td>\n",
       "      <td>0.0925</td>\n",
       "      <td>0.09066</td>\n",
       "      <td>0.0</td>\n",
       "      <td>0.0</td>\n",
       "    </tr>\n",
       "  </tbody>\n",
       "</table>\n",
       "<p>5 rows × 46 columns</p>\n",
       "</div>"
      ],
      "text/plain": [
       "                member_key borrower_state    income_range  income_verifiable  \\\n",
       "0  1F3E3376408759268057EDA             CO  $25,000-49,999                  1   \n",
       "1  1D13370546739025387B2F4             CO  $50,000-74,999                  1   \n",
       "2  5F7033715035555618FA612             GA   Not displayed                  1   \n",
       "3  9ADE356069835475068C6D2             GA  $25,000-49,999                  1   \n",
       "4  36CE356043264555721F06C             MN       $100,000+                  1   \n",
       "\n",
       "   debt_to_income_ratio     occupation employment_status  \\\n",
       "0                  0.17          Other     Self-employed   \n",
       "1                  0.18   Professional          Employed   \n",
       "2                  0.06          Other     Not available   \n",
       "3                  0.15  Skilled Labor          Employed   \n",
       "4                  0.26      Executive          Employed   \n",
       "\n",
       "   employment_status_duration  is_borrower_homeowner  \\\n",
       "0                         2.0                      1   \n",
       "1                        44.0                      1   \n",
       "2                         NaN                      1   \n",
       "3                       113.0                      1   \n",
       "4                        44.0                      1   \n",
       "\n",
       "   credit_score_range_lower  ...  closed_date  is_loan_delinquent  \\\n",
       "0                     640.0  ...   2009-08-14                   0   \n",
       "1                     680.0  ...          NaN                   0   \n",
       "2                     480.0  ...   2009-12-17                   0   \n",
       "3                     800.0  ...          NaN                   0   \n",
       "4                     680.0  ...          NaN                   0   \n",
       "\n",
       "  loan_current_days_delinquent  loan_months_since_origination  lender_yield  \\\n",
       "0                            0                             78        0.1380   \n",
       "1                            0                              0        0.0820   \n",
       "2                            0                             86        0.2400   \n",
       "3                            0                             16        0.0874   \n",
       "4                            0                              6        0.1985   \n",
       "\n",
       "   estimated_effective_yield  estimated_loss  estimated_return  \\\n",
       "0                        NaN             NaN               NaN   \n",
       "1                    0.07960          0.0249           0.05470   \n",
       "2                        NaN             NaN               NaN   \n",
       "3                    0.08490          0.0249           0.06000   \n",
       "4                    0.18316          0.0925           0.09066   \n",
       "\n",
       "   l_p__gross_principal_loss  l_p__net_principal_loss  \n",
       "0                        0.0                      0.0  \n",
       "1                        0.0                      0.0  \n",
       "2                        0.0                      0.0  \n",
       "3                        0.0                      0.0  \n",
       "4                        0.0                      0.0  \n",
       "\n",
       "[5 rows x 46 columns]"
      ]
     },
     "execution_count": 14,
     "metadata": {},
     "output_type": "execute_result"
    }
   ],
   "source": [
    "df.head()"
   ]
  },
  {
   "cell_type": "code",
   "execution_count": 26,
   "metadata": {},
   "outputs": [
    {
     "data": {
      "text/plain": [
       "(113937, 46)"
      ]
     },
     "execution_count": 26,
     "metadata": {},
     "output_type": "execute_result"
    }
   ],
   "source": [
    "df.shape"
   ]
  },
  {
   "cell_type": "code",
   "execution_count": 19,
   "metadata": {},
   "outputs": [],
   "source": [
    "# loads cleaned loan info df into df from csv file created in data_wrangling_and_cleaning.ipynb\n",
    "loan_info_df = pd.read_csv(r\"C:\\Users\\14802\\Desktop\\DATA_PROJECTS\\udacity_projects\\Loan_Data_Visualization\\loan_data.csv\", index_col=False, low_memory=False)"
   ]
  },
  {
   "cell_type": "code",
   "execution_count": 20,
   "metadata": {},
   "outputs": [
    {
     "data": {
      "text/html": [
       "<div>\n",
       "<style scoped>\n",
       "    .dataframe tbody tr th:only-of-type {\n",
       "        vertical-align: middle;\n",
       "    }\n",
       "\n",
       "    .dataframe tbody tr th {\n",
       "        vertical-align: top;\n",
       "    }\n",
       "\n",
       "    .dataframe thead th {\n",
       "        text-align: right;\n",
       "    }\n",
       "</style>\n",
       "<table border=\"1\" class=\"dataframe\">\n",
       "  <thead>\n",
       "    <tr style=\"text-align: right;\">\n",
       "      <th></th>\n",
       "      <th>member_key</th>\n",
       "      <th>loan_key</th>\n",
       "      <th>listing_category (numeric)</th>\n",
       "      <th>loan_original_amount</th>\n",
       "      <th>loan_origination_date</th>\n",
       "      <th>monthly_loan_payment</th>\n",
       "      <th>term</th>\n",
       "      <th>borrower_a_p_r</th>\n",
       "      <th>borrower_rate</th>\n",
       "      <th>loan_status</th>\n",
       "      <th>...</th>\n",
       "      <th>closed_date</th>\n",
       "      <th>is_loan_delinquent</th>\n",
       "      <th>loan_current_days_delinquent</th>\n",
       "      <th>loan_months_since_origination</th>\n",
       "      <th>lender_yield</th>\n",
       "      <th>estimated_effective_yield</th>\n",
       "      <th>estimated_loss</th>\n",
       "      <th>estimated_return</th>\n",
       "      <th>l_p__gross_principal_loss</th>\n",
       "      <th>l_p__net_principal_loss</th>\n",
       "    </tr>\n",
       "  </thead>\n",
       "  <tbody>\n",
       "    <tr>\n",
       "      <th>0</th>\n",
       "      <td>1F3E3376408759268057EDA</td>\n",
       "      <td>E33A3400205839220442E84</td>\n",
       "      <td>0</td>\n",
       "      <td>9425</td>\n",
       "      <td>2007-09-12 00:00:00.000</td>\n",
       "      <td>330.43</td>\n",
       "      <td>36</td>\n",
       "      <td>0.16516</td>\n",
       "      <td>0.1580</td>\n",
       "      <td>Completed</td>\n",
       "      <td>...</td>\n",
       "      <td>2009-08-14 00:00:00.000</td>\n",
       "      <td>0</td>\n",
       "      <td>0</td>\n",
       "      <td>78</td>\n",
       "      <td>0.1380</td>\n",
       "      <td>NaN</td>\n",
       "      <td>NaN</td>\n",
       "      <td>NaN</td>\n",
       "      <td>0.0</td>\n",
       "      <td>0.0</td>\n",
       "    </tr>\n",
       "    <tr>\n",
       "      <th>1</th>\n",
       "      <td>1D13370546739025387B2F4</td>\n",
       "      <td>9E3B37071505919926B1D82</td>\n",
       "      <td>2</td>\n",
       "      <td>10000</td>\n",
       "      <td>2014-03-03 00:00:00.000</td>\n",
       "      <td>318.93</td>\n",
       "      <td>36</td>\n",
       "      <td>0.12016</td>\n",
       "      <td>0.0920</td>\n",
       "      <td>Current</td>\n",
       "      <td>...</td>\n",
       "      <td>NaN</td>\n",
       "      <td>0</td>\n",
       "      <td>0</td>\n",
       "      <td>0</td>\n",
       "      <td>0.0820</td>\n",
       "      <td>0.07960</td>\n",
       "      <td>0.0249</td>\n",
       "      <td>0.05470</td>\n",
       "      <td>0.0</td>\n",
       "      <td>0.0</td>\n",
       "    </tr>\n",
       "    <tr>\n",
       "      <th>2</th>\n",
       "      <td>5F7033715035555618FA612</td>\n",
       "      <td>6954337960046817851BCB2</td>\n",
       "      <td>0</td>\n",
       "      <td>3001</td>\n",
       "      <td>2007-01-17 00:00:00.000</td>\n",
       "      <td>123.32</td>\n",
       "      <td>36</td>\n",
       "      <td>0.28269</td>\n",
       "      <td>0.2750</td>\n",
       "      <td>Completed</td>\n",
       "      <td>...</td>\n",
       "      <td>2009-12-17 00:00:00.000</td>\n",
       "      <td>0</td>\n",
       "      <td>0</td>\n",
       "      <td>86</td>\n",
       "      <td>0.2400</td>\n",
       "      <td>NaN</td>\n",
       "      <td>NaN</td>\n",
       "      <td>NaN</td>\n",
       "      <td>0.0</td>\n",
       "      <td>0.0</td>\n",
       "    </tr>\n",
       "    <tr>\n",
       "      <th>3</th>\n",
       "      <td>9ADE356069835475068C6D2</td>\n",
       "      <td>A0393664465886295619C51</td>\n",
       "      <td>16</td>\n",
       "      <td>10000</td>\n",
       "      <td>2012-11-01 00:00:00.000</td>\n",
       "      <td>321.45</td>\n",
       "      <td>36</td>\n",
       "      <td>0.12528</td>\n",
       "      <td>0.0974</td>\n",
       "      <td>Current</td>\n",
       "      <td>...</td>\n",
       "      <td>NaN</td>\n",
       "      <td>0</td>\n",
       "      <td>0</td>\n",
       "      <td>16</td>\n",
       "      <td>0.0874</td>\n",
       "      <td>0.08490</td>\n",
       "      <td>0.0249</td>\n",
       "      <td>0.06000</td>\n",
       "      <td>0.0</td>\n",
       "      <td>0.0</td>\n",
       "    </tr>\n",
       "    <tr>\n",
       "      <th>4</th>\n",
       "      <td>36CE356043264555721F06C</td>\n",
       "      <td>A180369302188889200689E</td>\n",
       "      <td>2</td>\n",
       "      <td>15000</td>\n",
       "      <td>2013-09-20 00:00:00.000</td>\n",
       "      <td>563.97</td>\n",
       "      <td>36</td>\n",
       "      <td>0.24614</td>\n",
       "      <td>0.2085</td>\n",
       "      <td>Current</td>\n",
       "      <td>...</td>\n",
       "      <td>NaN</td>\n",
       "      <td>0</td>\n",
       "      <td>0</td>\n",
       "      <td>6</td>\n",
       "      <td>0.1985</td>\n",
       "      <td>0.18316</td>\n",
       "      <td>0.0925</td>\n",
       "      <td>0.09066</td>\n",
       "      <td>0.0</td>\n",
       "      <td>0.0</td>\n",
       "    </tr>\n",
       "  </tbody>\n",
       "</table>\n",
       "<p>5 rows × 21 columns</p>\n",
       "</div>"
      ],
      "text/plain": [
       "                member_key                 loan_key  \\\n",
       "0  1F3E3376408759268057EDA  E33A3400205839220442E84   \n",
       "1  1D13370546739025387B2F4  9E3B37071505919926B1D82   \n",
       "2  5F7033715035555618FA612  6954337960046817851BCB2   \n",
       "3  9ADE356069835475068C6D2  A0393664465886295619C51   \n",
       "4  36CE356043264555721F06C  A180369302188889200689E   \n",
       "\n",
       "   listing_category (numeric)  loan_original_amount    loan_origination_date  \\\n",
       "0                           0                  9425  2007-09-12 00:00:00.000   \n",
       "1                           2                 10000  2014-03-03 00:00:00.000   \n",
       "2                           0                  3001  2007-01-17 00:00:00.000   \n",
       "3                          16                 10000  2012-11-01 00:00:00.000   \n",
       "4                           2                 15000  2013-09-20 00:00:00.000   \n",
       "\n",
       "   monthly_loan_payment  term  borrower_a_p_r  borrower_rate loan_status  ...  \\\n",
       "0                330.43    36         0.16516         0.1580   Completed  ...   \n",
       "1                318.93    36         0.12016         0.0920     Current  ...   \n",
       "2                123.32    36         0.28269         0.2750   Completed  ...   \n",
       "3                321.45    36         0.12528         0.0974     Current  ...   \n",
       "4                563.97    36         0.24614         0.2085     Current  ...   \n",
       "\n",
       "               closed_date is_loan_delinquent  loan_current_days_delinquent  \\\n",
       "0  2009-08-14 00:00:00.000                  0                             0   \n",
       "1                      NaN                  0                             0   \n",
       "2  2009-12-17 00:00:00.000                  0                             0   \n",
       "3                      NaN                  0                             0   \n",
       "4                      NaN                  0                             0   \n",
       "\n",
       "   loan_months_since_origination  lender_yield  estimated_effective_yield  \\\n",
       "0                             78        0.1380                        NaN   \n",
       "1                              0        0.0820                    0.07960   \n",
       "2                             86        0.2400                        NaN   \n",
       "3                             16        0.0874                    0.08490   \n",
       "4                              6        0.1985                    0.18316   \n",
       "\n",
       "   estimated_loss  estimated_return  l_p__gross_principal_loss  \\\n",
       "0             NaN               NaN                        0.0   \n",
       "1          0.0249           0.05470                        0.0   \n",
       "2             NaN               NaN                        0.0   \n",
       "3          0.0249           0.06000                        0.0   \n",
       "4          0.0925           0.09066                        0.0   \n",
       "\n",
       "   l_p__net_principal_loss  \n",
       "0                      0.0  \n",
       "1                      0.0  \n",
       "2                      0.0  \n",
       "3                      0.0  \n",
       "4                      0.0  \n",
       "\n",
       "[5 rows x 21 columns]"
      ]
     },
     "execution_count": 20,
     "metadata": {},
     "output_type": "execute_result"
    }
   ],
   "source": [
    "loan_info_df.head()"
   ]
  },
  {
   "cell_type": "code",
   "execution_count": 23,
   "metadata": {},
   "outputs": [],
   "source": [
    "# loads cleaned borrower df into df from csv file created in data_wrangling_and_cleaning.ipynb\n",
    "borrower_info_df = pd.read_csv(r\"C:\\Users\\14802\\Desktop\\DATA_PROJECTS\\udacity_projects\\Loan_Data_Visualization\\borrower_loan_data.csv\", index_col=False, low_memory=False)"
   ]
  },
  {
   "cell_type": "code",
   "execution_count": 24,
   "metadata": {},
   "outputs": [
    {
     "data": {
      "text/html": [
       "<div>\n",
       "<style scoped>\n",
       "    .dataframe tbody tr th:only-of-type {\n",
       "        vertical-align: middle;\n",
       "    }\n",
       "\n",
       "    .dataframe tbody tr th {\n",
       "        vertical-align: top;\n",
       "    }\n",
       "\n",
       "    .dataframe thead th {\n",
       "        text-align: right;\n",
       "    }\n",
       "</style>\n",
       "<table border=\"1\" class=\"dataframe\">\n",
       "  <thead>\n",
       "    <tr style=\"text-align: right;\">\n",
       "      <th></th>\n",
       "      <th>member_key</th>\n",
       "      <th>borrower_state</th>\n",
       "      <th>income_range</th>\n",
       "      <th>income_verifiable</th>\n",
       "      <th>debt_to_income_ratio</th>\n",
       "      <th>occupation</th>\n",
       "      <th>employment_status</th>\n",
       "      <th>employment_status_duration</th>\n",
       "      <th>is_borrower_homeowner</th>\n",
       "      <th>credit_score_range_lower</th>\n",
       "      <th>...</th>\n",
       "      <th>open_revolving_accounts</th>\n",
       "      <th>open_revolving_monthly_payment</th>\n",
       "      <th>inquiries_last6_months</th>\n",
       "      <th>total_inquiries</th>\n",
       "      <th>current_delinquencies</th>\n",
       "      <th>amount_delinquent</th>\n",
       "      <th>delinquencies_last7_years</th>\n",
       "      <th>revolving_credit_balance</th>\n",
       "      <th>bankcard_utilization</th>\n",
       "      <th>available_bankcard_credit</th>\n",
       "    </tr>\n",
       "  </thead>\n",
       "  <tbody>\n",
       "    <tr>\n",
       "      <th>0</th>\n",
       "      <td>1F3E3376408759268057EDA</td>\n",
       "      <td>CO</td>\n",
       "      <td>$25,000-49,999</td>\n",
       "      <td>1</td>\n",
       "      <td>0.17</td>\n",
       "      <td>Other</td>\n",
       "      <td>Self-employed</td>\n",
       "      <td>2.0</td>\n",
       "      <td>1</td>\n",
       "      <td>640.0</td>\n",
       "      <td>...</td>\n",
       "      <td>1</td>\n",
       "      <td>24.0</td>\n",
       "      <td>3.0</td>\n",
       "      <td>3.0</td>\n",
       "      <td>2.0</td>\n",
       "      <td>472.0</td>\n",
       "      <td>4.0</td>\n",
       "      <td>0.0</td>\n",
       "      <td>0.00</td>\n",
       "      <td>1500.0</td>\n",
       "    </tr>\n",
       "    <tr>\n",
       "      <th>1</th>\n",
       "      <td>1D13370546739025387B2F4</td>\n",
       "      <td>CO</td>\n",
       "      <td>$50,000-74,999</td>\n",
       "      <td>1</td>\n",
       "      <td>0.18</td>\n",
       "      <td>Professional</td>\n",
       "      <td>Employed</td>\n",
       "      <td>44.0</td>\n",
       "      <td>1</td>\n",
       "      <td>680.0</td>\n",
       "      <td>...</td>\n",
       "      <td>13</td>\n",
       "      <td>389.0</td>\n",
       "      <td>3.0</td>\n",
       "      <td>5.0</td>\n",
       "      <td>0.0</td>\n",
       "      <td>0.0</td>\n",
       "      <td>0.0</td>\n",
       "      <td>3989.0</td>\n",
       "      <td>0.21</td>\n",
       "      <td>10266.0</td>\n",
       "    </tr>\n",
       "    <tr>\n",
       "      <th>2</th>\n",
       "      <td>5F7033715035555618FA612</td>\n",
       "      <td>GA</td>\n",
       "      <td>Not displayed</td>\n",
       "      <td>1</td>\n",
       "      <td>0.06</td>\n",
       "      <td>Other</td>\n",
       "      <td>Not available</td>\n",
       "      <td>NaN</td>\n",
       "      <td>1</td>\n",
       "      <td>480.0</td>\n",
       "      <td>...</td>\n",
       "      <td>0</td>\n",
       "      <td>0.0</td>\n",
       "      <td>0.0</td>\n",
       "      <td>1.0</td>\n",
       "      <td>1.0</td>\n",
       "      <td>NaN</td>\n",
       "      <td>0.0</td>\n",
       "      <td>NaN</td>\n",
       "      <td>NaN</td>\n",
       "      <td>NaN</td>\n",
       "    </tr>\n",
       "    <tr>\n",
       "      <th>3</th>\n",
       "      <td>9ADE356069835475068C6D2</td>\n",
       "      <td>GA</td>\n",
       "      <td>$25,000-49,999</td>\n",
       "      <td>1</td>\n",
       "      <td>0.15</td>\n",
       "      <td>Skilled Labor</td>\n",
       "      <td>Employed</td>\n",
       "      <td>113.0</td>\n",
       "      <td>1</td>\n",
       "      <td>800.0</td>\n",
       "      <td>...</td>\n",
       "      <td>7</td>\n",
       "      <td>115.0</td>\n",
       "      <td>0.0</td>\n",
       "      <td>1.0</td>\n",
       "      <td>4.0</td>\n",
       "      <td>10056.0</td>\n",
       "      <td>14.0</td>\n",
       "      <td>1444.0</td>\n",
       "      <td>0.04</td>\n",
       "      <td>30754.0</td>\n",
       "    </tr>\n",
       "    <tr>\n",
       "      <th>4</th>\n",
       "      <td>36CE356043264555721F06C</td>\n",
       "      <td>MN</td>\n",
       "      <td>$100,000+</td>\n",
       "      <td>1</td>\n",
       "      <td>0.26</td>\n",
       "      <td>Executive</td>\n",
       "      <td>Employed</td>\n",
       "      <td>44.0</td>\n",
       "      <td>1</td>\n",
       "      <td>680.0</td>\n",
       "      <td>...</td>\n",
       "      <td>6</td>\n",
       "      <td>220.0</td>\n",
       "      <td>1.0</td>\n",
       "      <td>9.0</td>\n",
       "      <td>0.0</td>\n",
       "      <td>0.0</td>\n",
       "      <td>0.0</td>\n",
       "      <td>6193.0</td>\n",
       "      <td>0.81</td>\n",
       "      <td>695.0</td>\n",
       "    </tr>\n",
       "  </tbody>\n",
       "</table>\n",
       "<p>5 rows × 26 columns</p>\n",
       "</div>"
      ],
      "text/plain": [
       "                member_key borrower_state    income_range  income_verifiable  \\\n",
       "0  1F3E3376408759268057EDA             CO  $25,000-49,999                  1   \n",
       "1  1D13370546739025387B2F4             CO  $50,000-74,999                  1   \n",
       "2  5F7033715035555618FA612             GA   Not displayed                  1   \n",
       "3  9ADE356069835475068C6D2             GA  $25,000-49,999                  1   \n",
       "4  36CE356043264555721F06C             MN       $100,000+                  1   \n",
       "\n",
       "   debt_to_income_ratio     occupation employment_status  \\\n",
       "0                  0.17          Other     Self-employed   \n",
       "1                  0.18   Professional          Employed   \n",
       "2                  0.06          Other     Not available   \n",
       "3                  0.15  Skilled Labor          Employed   \n",
       "4                  0.26      Executive          Employed   \n",
       "\n",
       "   employment_status_duration  is_borrower_homeowner  \\\n",
       "0                         2.0                      1   \n",
       "1                        44.0                      1   \n",
       "2                         NaN                      1   \n",
       "3                       113.0                      1   \n",
       "4                        44.0                      1   \n",
       "\n",
       "   credit_score_range_lower  ...  open_revolving_accounts  \\\n",
       "0                     640.0  ...                        1   \n",
       "1                     680.0  ...                       13   \n",
       "2                     480.0  ...                        0   \n",
       "3                     800.0  ...                        7   \n",
       "4                     680.0  ...                        6   \n",
       "\n",
       "   open_revolving_monthly_payment inquiries_last6_months  total_inquiries  \\\n",
       "0                            24.0                    3.0              3.0   \n",
       "1                           389.0                    3.0              5.0   \n",
       "2                             0.0                    0.0              1.0   \n",
       "3                           115.0                    0.0              1.0   \n",
       "4                           220.0                    1.0              9.0   \n",
       "\n",
       "   current_delinquencies  amount_delinquent  delinquencies_last7_years  \\\n",
       "0                    2.0              472.0                        4.0   \n",
       "1                    0.0                0.0                        0.0   \n",
       "2                    1.0                NaN                        0.0   \n",
       "3                    4.0            10056.0                       14.0   \n",
       "4                    0.0                0.0                        0.0   \n",
       "\n",
       "   revolving_credit_balance  bankcard_utilization  available_bankcard_credit  \n",
       "0                       0.0                  0.00                     1500.0  \n",
       "1                    3989.0                  0.21                    10266.0  \n",
       "2                       NaN                   NaN                        NaN  \n",
       "3                    1444.0                  0.04                    30754.0  \n",
       "4                    6193.0                  0.81                      695.0  \n",
       "\n",
       "[5 rows x 26 columns]"
      ]
     },
     "execution_count": 24,
     "metadata": {},
     "output_type": "execute_result"
    }
   ],
   "source": [
    "borrower_info_df.head()"
   ]
  },
  {
   "cell_type": "markdown",
   "metadata": {},
   "source": [
    "## About the dataset"
   ]
  },
  {
   "cell_type": "markdown",
   "metadata": {},
   "source": [
    "> The master dataset has 46 columns and 113,937 rows of data about borrowers and loans.\n",
    "  \n",
    ">The main features in the dataset ia the borrower information such as credit score and income as well as loan information such as whether the loan is delinquent or has been closed. \n",
    "\n",
    "> These features will support an investigation into what the average borrower's average loan looks like as well as what factors potentially increase or decrease the likelihood of becoming delinquent on a loan."
   ]
  },
  {
   "cell_type": "markdown",
   "metadata": {},
   "source": [
    "## Univariate Exploration"
   ]
  },
  {
   "cell_type": "markdown",
   "metadata": {},
   "source": [
    ">I'll begin the univariate exploration with getting an overall picture of borrowers' financial information and average loan information before diving deeper into how one variable can affect another. "
   ]
  },
  {
   "cell_type": "markdown",
   "metadata": {},
   "source": [
    "### Exploratory Question #1 - "
   ]
  },
  {
   "cell_type": "markdown",
   "metadata": {},
   "source": [
    "\n",
    "\n",
    ">What is the distribution of borrowers' credit scores?"
   ]
  },
  {
   "cell_type": "code",
   "execution_count": 28,
   "metadata": {},
   "outputs": [
    {
     "data": {
      "text/plain": [
       "count    113346.000000\n",
       "mean        685.567731\n",
       "std          66.458275\n",
       "min           0.000000\n",
       "25%         660.000000\n",
       "50%         680.000000\n",
       "75%         720.000000\n",
       "max         880.000000\n",
       "Name: credit_score_range_lower, dtype: float64"
      ]
     },
     "execution_count": 28,
     "metadata": {},
     "output_type": "execute_result"
    }
   ],
   "source": [
    "df.credit_score_range_lower.describe()"
   ]
  },
  {
   "cell_type": "markdown",
   "metadata": {},
   "source": [
    "### Visualization #1 - Distribution of Borrowers' Credit Scores (lower range)"
   ]
  },
  {
   "cell_type": "code",
   "execution_count": 53,
   "metadata": {},
   "outputs": [
    {
     "data": {
      "image/png": "[encoded data removed]",
      "text/plain": [
       "<Figure size 1080x576 with 1 Axes>"
      ]
     },
     "metadata": {},
     "output_type": "display_data"
    }
   ],
   "source": [
    "sns.set_theme(style=\"darkgrid\", font_scale=1.5)\n",
    "plt.figure(figsize=(15,8))\n",
    "\n",
    "ax1 = sns.boxplot(x=df['credit_score_range_lower'])\n",
    "\n",
    "\n",
    "ax1.set_xlabel(\"Borrower Credit Score (Lower Range)\")\n",
    "ax1.set_title(\"Distribution of Borrowers' Credit Scores (Lower Range)\");\n"
   ]
  },
  {
   "cell_type": "code",
   "execution_count": 50,
   "metadata": {},
   "outputs": [
    {
     "data": {
      "text/plain": [
       "count    113346.000000\n",
       "mean        704.567731\n",
       "std          66.458275\n",
       "min          19.000000\n",
       "25%         679.000000\n",
       "50%         699.000000\n",
       "75%         739.000000\n",
       "max         899.000000\n",
       "Name: credit_score_range_upper, dtype: float64"
      ]
     },
     "execution_count": 50,
     "metadata": {},
     "output_type": "execute_result"
    }
   ],
   "source": [
    "df.credit_score_range_upper.describe()"
   ]
  },
  {
   "cell_type": "markdown",
   "metadata": {},
   "source": [
    "### Visualization #2 - Distirbution of Borrowers' Credit Score (upper range)"
   ]
  },
  {
   "cell_type": "code",
   "execution_count": 54,
   "metadata": {},
   "outputs": [
    {
     "data": {
      "image/png": "[encoded data removed]",
      "text/plain": [
       "<Figure size 1080x576 with 1 Axes>"
      ]
     },
     "metadata": {},
     "output_type": "display_data"
    }
   ],
   "source": [
    "sns.set_theme(style=\"darkgrid\", font_scale=1.5)\n",
    "plt.figure(figsize=(15,8))\n",
    "\n",
    "ax1 = sns.boxplot(x=df['credit_score_range_upper'])\n",
    "\n",
    "\n",
    "ax1.set_xlabel(\"Borrower Credit Score (Upper Range)\")\n",
    "ax1.set_title(\"Distribution of Borrowers' Credit Scores (Upper Range)\");"
   ]
  },
  {
   "cell_type": "markdown",
   "metadata": {},
   "source": [
    "### Observation"
   ]
  },
  {
   "cell_type": "markdown",
   "metadata": {},
   "source": [
    ">Both lower and upper credit limit ranges have a narrow distribution, with a lower mean of 685 and an upper mean of 704. Both lower and upper ranges had a standard deviation of 66."
   ]
  },
  {
   "cell_type": "markdown",
   "metadata": {},
   "source": [
    "### Exploratory Question #2 - "
   ]
  },
  {
   "cell_type": "markdown",
   "metadata": {},
   "source": [
    ">What is does the income distribution of borrower's look like?"
   ]
  },
  {
   "cell_type": "code",
   "execution_count": 105,
   "metadata": {},
   "outputs": [],
   "source": [
    "borrower_income = df.groupby(['income_range']).size()"
   ]
  },
  {
   "cell_type": "code",
   "execution_count": 106,
   "metadata": {},
   "outputs": [],
   "source": [
    "borrower_income = pd.DataFrame(borrower_income)\n",
    "borrower_income.reset_index(inplace=True)\n",
    "borrower_income.columns = ['income_range', 'total_borrowers']"
   ]
  },
  {
   "cell_type": "code",
   "execution_count": 107,
   "metadata": {},
   "outputs": [
    {
     "data": {
      "text/html": [
       "<div>\n",
       "<style scoped>\n",
       "    .dataframe tbody tr th:only-of-type {\n",
       "        vertical-align: middle;\n",
       "    }\n",
       "\n",
       "    .dataframe tbody tr th {\n",
       "        vertical-align: top;\n",
       "    }\n",
       "\n",
       "    .dataframe thead th {\n",
       "        text-align: right;\n",
       "    }\n",
       "</style>\n",
       "<table border=\"1\" class=\"dataframe\">\n",
       "  <thead>\n",
       "    <tr style=\"text-align: right;\">\n",
       "      <th></th>\n",
       "      <th>income_range</th>\n",
       "      <th>total_borrowers</th>\n",
       "    </tr>\n",
       "  </thead>\n",
       "  <tbody>\n",
       "    <tr>\n",
       "      <th>0</th>\n",
       "      <td>$0</td>\n",
       "      <td>621</td>\n",
       "    </tr>\n",
       "    <tr>\n",
       "      <th>1</th>\n",
       "      <td>$1-24,999</td>\n",
       "      <td>7274</td>\n",
       "    </tr>\n",
       "    <tr>\n",
       "      <th>2</th>\n",
       "      <td>$100,000+</td>\n",
       "      <td>17337</td>\n",
       "    </tr>\n",
       "    <tr>\n",
       "      <th>3</th>\n",
       "      <td>$25,000-49,999</td>\n",
       "      <td>32192</td>\n",
       "    </tr>\n",
       "    <tr>\n",
       "      <th>4</th>\n",
       "      <td>$50,000-74,999</td>\n",
       "      <td>31050</td>\n",
       "    </tr>\n",
       "    <tr>\n",
       "      <th>5</th>\n",
       "      <td>$75,000-99,999</td>\n",
       "      <td>16916</td>\n",
       "    </tr>\n",
       "    <tr>\n",
       "      <th>6</th>\n",
       "      <td>Not displayed</td>\n",
       "      <td>7741</td>\n",
       "    </tr>\n",
       "    <tr>\n",
       "      <th>7</th>\n",
       "      <td>Not employed</td>\n",
       "      <td>806</td>\n",
       "    </tr>\n",
       "  </tbody>\n",
       "</table>\n",
       "</div>"
      ],
      "text/plain": [
       "     income_range  total_borrowers\n",
       "0              $0              621\n",
       "1       $1-24,999             7274\n",
       "2       $100,000+            17337\n",
       "3  $25,000-49,999            32192\n",
       "4  $50,000-74,999            31050\n",
       "5  $75,000-99,999            16916\n",
       "6   Not displayed             7741\n",
       "7    Not employed              806"
      ]
     },
     "execution_count": 107,
     "metadata": {},
     "output_type": "execute_result"
    }
   ],
   "source": [
    "borrower_income"
   ]
  },
  {
   "cell_type": "code",
   "execution_count": 108,
   "metadata": {},
   "outputs": [
    {
     "data": {
      "text/html": [
       "<div>\n",
       "<style scoped>\n",
       "    .dataframe tbody tr th:only-of-type {\n",
       "        vertical-align: middle;\n",
       "    }\n",
       "\n",
       "    .dataframe tbody tr th {\n",
       "        vertical-align: top;\n",
       "    }\n",
       "\n",
       "    .dataframe thead th {\n",
       "        text-align: right;\n",
       "    }\n",
       "</style>\n",
       "<table border=\"1\" class=\"dataframe\">\n",
       "  <thead>\n",
       "    <tr style=\"text-align: right;\">\n",
       "      <th></th>\n",
       "      <th>income_range</th>\n",
       "      <th>total_borrowers</th>\n",
       "    </tr>\n",
       "  </thead>\n",
       "  <tbody>\n",
       "    <tr>\n",
       "      <th>0</th>\n",
       "      <td>$0</td>\n",
       "      <td>621</td>\n",
       "    </tr>\n",
       "    <tr>\n",
       "      <th>1</th>\n",
       "      <td>$1-24,999</td>\n",
       "      <td>7274</td>\n",
       "    </tr>\n",
       "    <tr>\n",
       "      <th>2</th>\n",
       "      <td>$100,000+</td>\n",
       "      <td>17337</td>\n",
       "    </tr>\n",
       "    <tr>\n",
       "      <th>3</th>\n",
       "      <td>$25,000-49,999</td>\n",
       "      <td>32192</td>\n",
       "    </tr>\n",
       "    <tr>\n",
       "      <th>4</th>\n",
       "      <td>$50,000-74,999</td>\n",
       "      <td>31050</td>\n",
       "    </tr>\n",
       "    <tr>\n",
       "      <th>5</th>\n",
       "      <td>$75,000-99,999</td>\n",
       "      <td>16916</td>\n",
       "    </tr>\n",
       "  </tbody>\n",
       "</table>\n",
       "</div>"
      ],
      "text/plain": [
       "     income_range  total_borrowers\n",
       "0              $0              621\n",
       "1       $1-24,999             7274\n",
       "2       $100,000+            17337\n",
       "3  $25,000-49,999            32192\n",
       "4  $50,000-74,999            31050\n",
       "5  $75,000-99,999            16916"
      ]
     },
     "execution_count": 108,
     "metadata": {},
     "output_type": "execute_result"
    }
   ],
   "source": [
    "borrower_income.drop([6,7], inplace=True)\n",
    "borrower_income"
   ]
  },
  {
   "cell_type": "code",
   "execution_count": 109,
   "metadata": {},
   "outputs": [],
   "source": [
    "borrower_income = borrower_income.reindex(index=[0,1,3,4,5,2])"
   ]
  },
  {
   "cell_type": "markdown",
   "metadata": {},
   "source": [
    "### Visualization #3"
   ]
  },
  {
   "cell_type": "code",
   "execution_count": 110,
   "metadata": {},
   "outputs": [
    {
     "data": {
      "image/png": "[encoded data removed]",
      "text/plain": [
       "<Figure size 1080x576 with 1 Axes>"
      ]
     },
     "metadata": {},
     "output_type": "display_data"
    }
   ],
   "source": [
    "sns.set_theme(style=\"darkgrid\", font_scale=1.5)\n",
    "plt.figure(figsize=(15,8))\n",
    "\n",
    "ax1 = sns.barplot(data=borrower_income, x='income_range', y='total_borrowers')\n",
    "\n",
    "\n",
    "ax1.set_xlabel(\"Income Range Group\")\n",
    "ax1.set_title(\"Total Borrowers per Income Group\");"
   ]
  },
  {
   "cell_type": "markdown",
   "metadata": {},
   "source": [
    "### Observation"
   ]
  },
  {
   "cell_type": "markdown",
   "metadata": {},
   "source": [
    ">The majority of borrowers are making 25,000 - 74,999 dollars per year.  "
   ]
  },
  {
   "cell_type": "markdown",
   "metadata": {},
   "source": [
    "### Exploratory Question #3 -"
   ]
  },
  {
   "cell_type": "markdown",
   "metadata": {},
   "source": [
    ">What is the average debt to income ratio for borrowers?"
   ]
  },
  {
   "cell_type": "code",
   "execution_count": 112,
   "metadata": {},
   "outputs": [
    {
     "data": {
      "text/plain": [
       "count    105383.000000\n",
       "mean          0.275947\n",
       "std           0.551759\n",
       "min           0.000000\n",
       "25%           0.140000\n",
       "50%           0.220000\n",
       "75%           0.320000\n",
       "max          10.010000\n",
       "Name: debt_to_income_ratio, dtype: float64"
      ]
     },
     "execution_count": 112,
     "metadata": {},
     "output_type": "execute_result"
    }
   ],
   "source": [
    "df['debt_to_income_ratio'].describe()"
   ]
  },
  {
   "cell_type": "markdown",
   "metadata": {},
   "source": [
    "### Visualization #4 "
   ]
  },
  {
   "cell_type": "code",
   "execution_count": 113,
   "metadata": {},
   "outputs": [
    {
     "data": {
      "image/png": "[encoded data removed]",
      "text/plain": [
       "<Figure size 1080x576 with 1 Axes>"
      ]
     },
     "metadata": {},
     "output_type": "display_data"
    }
   ],
   "source": [
    "sns.set_theme(style=\"darkgrid\", font_scale=1.5)\n",
    "plt.figure(figsize=(15,8))\n",
    "\n",
    "ax1 = sns.boxplot(x=df['debt_to_income_ratio'])\n",
    "\n",
    "\n",
    "ax1.set_xlabel(\"Borrower Debt to Income Ratio\")\n",
    "ax1.set_title(\"Distribution of Borrowers' Debt to Income Ratio\");"
   ]
  },
  {
   "cell_type": "markdown",
   "metadata": {},
   "source": [
    "### Observation"
   ]
  },
  {
   "cell_type": "markdown",
   "metadata": {},
   "source": [
    "> From the documentation provided to decribe the data set, the debt to income ratio is \"The debt to income ratio of the borrower at the time the credit profile was pulled. This value is Null if the debt to income ratio is not available. This value is capped at 10.01 (any debt to income ratio larger than 1000% will be returned as 1001%).\" - - Seeing this box plot, I first thought the high numbers but be incorrect data, but it seems from the data description, these ratios really can be up to 1000% for debt to income ratio. The median, however, is 22%."
   ]
  },
  {
   "cell_type": "markdown",
   "metadata": {},
   "source": [
    "### Exploratory Question #4 -"
   ]
  },
  {
   "cell_type": "markdown",
   "metadata": {},
   "source": [
    ">How many open revolving accounts did borrowers have on average?"
   ]
  },
  {
   "cell_type": "code",
   "execution_count": 115,
   "metadata": {},
   "outputs": [
    {
     "data": {
      "text/plain": [
       "count    113937.00000\n",
       "mean          6.96979\n",
       "std           4.63097\n",
       "min           0.00000\n",
       "25%           4.00000\n",
       "50%           6.00000\n",
       "75%           9.00000\n",
       "max          51.00000\n",
       "Name: open_revolving_accounts, dtype: float64"
      ]
     },
     "execution_count": 115,
     "metadata": {},
     "output_type": "execute_result"
    }
   ],
   "source": [
    "df['open_revolving_accounts'].describe()"
   ]
  },
  {
   "cell_type": "markdown",
   "metadata": {},
   "source": [
    "### Visualization #5"
   ]
  },
  {
   "cell_type": "code",
   "execution_count": 116,
   "metadata": {},
   "outputs": [
    {
     "data": {
      "image/png": "[encoded data removed]",
      "text/plain": [
       "<Figure size 1080x576 with 1 Axes>"
      ]
     },
     "metadata": {},
     "output_type": "display_data"
    }
   ],
   "source": [
    "sns.set_theme(style=\"darkgrid\", font_scale=1.5)\n",
    "plt.figure(figsize=(15,8))\n",
    "\n",
    "ax1 = sns.boxplot(x=df['open_revolving_accounts'])\n",
    "\n",
    "\n",
    "ax1.set_xlabel(\"Borrowers' Number of Open Revolving Accounts\")\n",
    "ax1.set_title(\"Distribution of Borrowers' Open Revolving Accounts\");"
   ]
  },
  {
   "cell_type": "markdown",
   "metadata": {},
   "source": [
    "### Observation"
   ]
  },
  {
   "cell_type": "markdown",
   "metadata": {},
   "source": [
    "> The average (mean) number of open revolving accounts was 6.9 and the median was 6. There do appear to be several outliers, with the max number of open revolving accounts as 51."
   ]
  },
  {
   "cell_type": "markdown",
   "metadata": {},
   "source": [
    "### Exploratory Question #5"
   ]
  },
  {
   "cell_type": "code",
   "execution_count": null,
   "metadata": {},
   "outputs": [],
   "source": []
  },
  {
   "cell_type": "code",
   "execution_count": null,
   "metadata": {},
   "outputs": [],
   "source": []
  },
  {
   "cell_type": "code",
   "execution_count": null,
   "metadata": {},
   "outputs": [],
   "source": []
  },
  {
   "cell_type": "code",
   "execution_count": null,
   "metadata": {},
   "outputs": [],
   "source": []
  },
  {
   "cell_type": "code",
   "execution_count": null,
   "metadata": {},
   "outputs": [],
   "source": []
  },
  {
   "cell_type": "code",
   "execution_count": null,
   "metadata": {},
   "outputs": [],
   "source": []
  },
  {
   "cell_type": "code",
   "execution_count": null,
   "metadata": {},
   "outputs": [],
   "source": []
  },
  {
   "cell_type": "code",
   "execution_count": null,
   "metadata": {},
   "outputs": [],
   "source": []
  },
  {
   "cell_type": "markdown",
   "metadata": {},
   "source": [
    "### Discuss the distribution(s) of your variable(s) of interest. Were there any unusual points? Did you need to perform any transformations?\n",
    "\n",
    "> Your answer here!\n",
    "\n",
    "### Of the features you investigated, were there any unusual distributions? Did you perform any operations on the data to tidy, adjust, or change the form of the data? If so, why did you do this?\n",
    "\n",
    "> Your answer here!"
   ]
  },
  {
   "cell_type": "markdown",
   "metadata": {},
   "source": [
    "## Bivariate Exploration\n",
    "\n",
    "> In this section, investigate relationships between pairs of variables in your\n",
    "data. Make sure the variables that you cover here have been introduced in some\n",
    "fashion in the previous section (univariate exploration)."
   ]
  },
  {
   "cell_type": "code",
   "execution_count": null,
   "metadata": {},
   "outputs": [],
   "source": []
  },
  {
   "cell_type": "markdown",
   "metadata": {},
   "source": [
    "### Talk about some of the relationships you observed in this part of the investigation. How did the feature(s) of interest vary with other features in the dataset?\n",
    "\n",
    "> Your answer here!\n",
    "\n",
    "### Did you observe any interesting relationships between the other features (not the main feature(s) of interest)?\n",
    "\n",
    "> Your answer here!"
   ]
  },
  {
   "cell_type": "markdown",
   "metadata": {},
   "source": [
    "## Multivariate Exploration\n",
    "\n",
    "> Create plots of three or more variables to investigate your data even\n",
    "further. Make sure that your investigations are justified, and follow from\n",
    "your work in the previous sections."
   ]
  },
  {
   "cell_type": "code",
   "execution_count": null,
   "metadata": {},
   "outputs": [],
   "source": []
  },
  {
   "cell_type": "markdown",
   "metadata": {},
   "source": [
    "### Talk about some of the relationships you observed in this part of the investigation. Were there features that strengthened each other in terms of looking at your feature(s) of interest?\n",
    "\n",
    "> Your answer here!\n",
    "\n",
    "### Were there any interesting or surprising interactions between features?\n",
    "\n",
    "> Your answer here!"
   ]
  },
  {
   "cell_type": "markdown",
   "metadata": {},
   "source": [
    "## Conclusions\n",
    ">You can write a summary of the main findings and reflect on the steps taken during the data exploration.\n"
   ]
  },
  {
   "cell_type": "markdown",
   "metadata": {},
   "source": [
    "\n",
    "> Remove all Tips mentioned above, before you convert this notebook to PDF/HTML\n",
    "\n",
    "\n",
    "> At the end of your report, make sure that you export the notebook as an\n",
    "html file from the `File > Download as... > HTML or PDF` menu. Make sure you keep\n",
    "track of where the exported file goes, so you can put it in the same folder\n",
    "as this notebook for project submission. Also, make sure you remove all of\n",
    "the quote-formatted guide notes like this one before you finish your report!\n",
    "\n"
   ]
  },
  {
   "cell_type": "code",
   "execution_count": null,
   "metadata": {},
   "outputs": [],
   "source": []
  }
 ],
 "metadata": {
  "kernelspec": {
   "display_name": "Python 3 (ipykernel)",
   "language": "python",
   "name": "python3"
  },
  "language_info": {
   "codemirror_mode": {
    "name": "ipython",
    "version": 3
   },
   "file_extension": ".py",
   "mimetype": "text/x-python",
   "name": "python",
   "nbconvert_exporter": "python",
   "pygments_lexer": "ipython3",
   "version": "3.9.7"
  }
 },
 "nbformat": 4,
 "nbformat_minor": 2
}
